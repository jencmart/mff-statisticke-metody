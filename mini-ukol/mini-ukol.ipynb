{
 "cells": [
  {
   "cell_type": "code",
   "execution_count": 1,
   "metadata": {},
   "outputs": [],
   "source": [
    "import scipy\n",
    "from scipy import stats\n",
    "import pandas as pd\n",
    "import math"
   ]
  },
  {
   "cell_type": "markdown",
   "metadata": {},
   "source": [
    "* V prvnim pripade se jedna o parovy test (pred/po -- parova data)\n",
    "* V druhem pripade se jedna o dvouvyberovy t-test (dva vybery)"
   ]
  },
  {
   "cell_type": "markdown",
   "metadata": {},
   "source": [
    "# RUCE"
   ]
  },
  {
   "cell_type": "code",
   "execution_count": 123,
   "metadata": {},
   "outputs": [
    {
     "data": {
      "text/plain": [
       "Ttest_relResult(statistic=-3.1814457556571267, pvalue=0.00873863596242495)"
      ]
     },
     "execution_count": 123,
     "metadata": {},
     "output_type": "execute_result"
    }
   ],
   "source": [
    "df = pd.read_csv(\"data-ruce.txt\", delimiter=\" \")\n",
    "\n",
    "# two-sided test\n",
    "# nevim jestli pocet zachvevu ocekavat mensi nebo vetsi\n",
    "# zajima me, jestli se to proste lisi\n",
    "stats.ttest_rel(df[\"ruka_pred\"], df[\"ruka_po\"])"
   ]
  },
  {
   "cell_type": "markdown",
   "metadata": {},
   "source": [
    "* H0: same E(X)\n",
    "* H1: different E(X)\n",
    "* a = 0.01\n",
    "* pvalue=0.008 < 0.01 ... **zamitame H0** - zamitame stejne stredni hodnoty"
   ]
  },
  {
   "cell_type": "markdown",
   "metadata": {},
   "source": [
    "### pripominky k t-testum:\n",
    "* 1/ **v prvni casti jde zrejme o parovy test (ne o \"pravy\")**\n",
    "    *  ano byl to preklep\n",
    "* 2/ **pouzil jednostranny test - rozmyslete jake duvody pro pouziti jednostranneho / oboustranneho testu**\n",
    "   * po uvaze byc asi takel volil radeji jednostranny test:\n",
    "   * zajima nas, jestli zubum skodime natolik, ze vydrzi mene ...\n",
    "* 3/ **vypocet konfidencniho intervalu je zjevne chybny [t-test nezamita-> interval musi obsahovat hodnotu]**\n",
    "  * Chyba spocivala v tom, ze jsem pro two-tailed pouzil hodnotu alpha a ne aplha/2\n",
    "  * to me zmatlo proto, ze funkce `scipy.stats.ttest_ind()` dava uz rovnou p-value pro two-tailed test\n",
    "  \n",
    "  * zde jsem znovu cele projistotu prepocital:"
   ]
  },
  {
   "cell_type": "markdown",
   "metadata": {},
   "source": [
    "# ZUBY"
   ]
  },
  {
   "cell_type": "code",
   "execution_count": 124,
   "metadata": {},
   "outputs": [],
   "source": [
    "data = pd.read_csv(\"data-zuby.txt\", delimiter=\" \")\n",
    "s_1, s_2 = data[\"zuby_pomlau\"], data[\"zuby_sok\"]\n",
    "n_1, n_2 = s_1.size, s_2.size\n",
    "# data.boxplot()\n",
    "\n",
    "# alpha\n",
    "a=0.05\n",
    "\n",
    "# std err\n",
    "se_p = math.sqrt(s_1.var() + (s_2.var)()) / math.sqrt(n_2) \n",
    "\n",
    "# mu \n",
    "mu = (s_1.mean()- s_2.mean())\n",
    "\n",
    "# t stat\n",
    "t_stat = mu / se_p\n",
    "\n",
    "# df\n",
    "df = n_1 -1 + n_2 - 1 # same variance \n",
    "df = se_p**4 / (1/(n_1 - 1) * (s_1.var()/n_1)**2 +  1/(n_1 - 1) * (s_2.var()/n_1)**2) # unkown variance\n",
    "\n",
    "\n",
    "# p values for t_stat\n",
    "pval_two_sided = stats.t.sf(abs(t_stat), df)*2  # Prob(abs(t)>t_stat)\n",
    "pval_one_sided = stats.t.sf(abs(t_stat), df)    # Prob(abs(t)>t_stat) / 2\n",
    "\n",
    "\n",
    "# t critic for df, alpha\n",
    "t_crit_two_sided = stats.t.ppf(q=1-a/2, df=df) # a/2\n",
    "t_crit_one_sided = stats.t.ppf(q=1-a, df=df)  \n",
    "\n",
    "# iterval two sided\n",
    "interval_L = mu - t_crit_two_sided*se_p\n",
    "interval_R = mu + t_crit_two_sided*se_p"
   ]
  },
  {
   "cell_type": "markdown",
   "metadata": {},
   "source": [
    "## TWO-SAMPLE TEST (TWO-TAILED)\n",
    "### H0: mu(pomalu varene) == mu(rychle varene)\n",
    "### H1: mu(pomalu varene) != mu(rychle varene)"
   ]
  },
  {
   "cell_type": "code",
   "execution_count": 125,
   "metadata": {},
   "outputs": [
    {
     "name": "stdout",
     "output_type": "stream",
     "text": [
      "|t_stat| < t_crit : 2.019354722091951 <= 2.2042005991260605\n",
      "\t Failed to reject H0\n",
      "\t H0: mu(rychle varene) ==  mu(pomalu varene) \n",
      "\n",
      "p_val >= alpha : 0.06879844307365293 >= 0.05\n",
      "\t Failed to reject H0\n",
      "\t H0: mu(rychle varene) ==  mu(pomalu varene) \n",
      "\n",
      "(1-0.05)% conf. interval (-0.1064118798452327,2.4314118798452284)\n"
     ]
    }
   ],
   "source": [
    "# TEST BY VALUE OF STATISTICS\n",
    "if  abs(t_stat) > t_crit_two_sided:\n",
    "    print(\"|t_stat| >= t_crit : {} > {}\".format(t_stat, t_crit_two_sided))\n",
    "    print(\"\\t REJECTING H0 in favor of H1\")\n",
    "    print(\"\\t H1: mu(pomalu varene)  != mu(rychle varene)  \")\n",
    "    print(\"\")\n",
    "\n",
    "else:\n",
    "    print(\"|t_stat| < t_crit : {} <= {}\".format(t_stat, t_crit_two_sided))\n",
    "    print(\"\\t Failed to reject H0\")\n",
    "    print(\"\\t H0: mu(rychle varene) ==  mu(pomalu varene) \")\n",
    "    print(\"\")\n",
    "\n",
    "\n",
    "# TEST BY P VALUE\n",
    "if pval_two_sided < a:\n",
    "    print(\"p_val < alpha : {} < {}\".format(pval_two_sided, a))\n",
    "    print(\"\\t REJECTING H0 in favor of H1\")\n",
    "    print(\"\\t H1: mu(pomalu varene)  > mu(rychle varene)\")\n",
    "    print(\"\")\n",
    "\n",
    "else:\n",
    "    print(\"p_val >= alpha : {} >= {}\".format(pval_two_sided, a))\n",
    "    print(\"\\t Failed to reject H0\")\n",
    "    print(\"\\t H0: mu(rychle varene) ==  mu(pomalu varene) \")\n",
    "    print(\"\")\n",
    "\n",
    "    \n",
    "# INTERVAL\n",
    "interval_L = mu - t_crit_two_sided*se_p\n",
    "interval_R = mu + t_crit_two_sided*se_p\n",
    "print(\"(1-{})% conf. interval ({},{})\".format(a, interval_L, interval_R))"
   ]
  },
  {
   "cell_type": "markdown",
   "metadata": {},
   "source": [
    "## TWO-SAMPLE  (ONE-TAILED TEST)\n",
    "### H0: mu(rychle varene) >=  mu(pomalu varene) \n",
    "### H1: mu(pomalu varene)  > mu(rychle varene)  "
   ]
  },
  {
   "cell_type": "code",
   "execution_count": 136,
   "metadata": {},
   "outputs": [
    {
     "name": "stdout",
     "output_type": "stream",
     "text": [
      "t_stat >= t_crit : 2.019354722091951 >= 1.7978520481089464\n",
      "\t REJECTING H0 in favor of H1\n",
      "\t H1: mu(pomalu varene) > mu(rychle varene)  \n",
      "\n",
      "p_val < alpha : 0.034399221536826466 < 0.05\n",
      "\t REJECTING H0 in favor of H1\n",
      "\t H1: mu(pomalu varene) > mu(rychle varene)  \n",
      "\n",
      "(1-0.05)% conf. interval (0.1275,+inf)\n"
     ]
    }
   ],
   "source": [
    "# TEST BY VALUE OF STATISTICS\n",
    "if t_stat < t_crit_one_sided:\n",
    "    print(\"t_stat < t_crit : {} < {}\".format(t_stat, t_crit_one_sided))\n",
    "    print(\"\\t Failed to reject H0\")\n",
    "    print(\"\\t H0: mu(rychle varene) >=  mu(pomalu varene) \")\n",
    "    print(\"\")\n",
    "    \n",
    "else:\n",
    "    print(\"t_stat >= t_crit : {} >= {}\".format(t_stat, t_crit_one_sided))\n",
    "    print(\"\\t REJECTING H0 in favor of H1\")\n",
    "    print(\"\\t H1: mu(pomalu varene) > mu(rychle varene)  \")\n",
    "    print(\"\")\n",
    "\n",
    "# TEST BY P VALUE\n",
    "if pval_one_sided < a:\n",
    "    print(\"p_val < alpha : {} < {}\".format(pval_one_sided, a))\n",
    "    print(\"\\t REJECTING H0 in favor of H1\")\n",
    "    print(\"\\t H1: mu(pomalu varene) > mu(rychle varene)  \")\n",
    "    print(\"\")\n",
    "\n",
    "else:\n",
    "    print(\"p_val >= alpha : {} >= {}\".format(pval_one_sided, a))\n",
    "    print(\"\\t Failed to reject H0\")\n",
    "    print(\"\\t H0: mu(rychle varene) >=  mu(pomalu varene) \")\n",
    "    print(\"\")\n",
    "\n",
    "# INTERVAL\n",
    "interval_L = mu - t_crit_one_sided*se_p\n",
    "interval_R = mu + t_crit_one_sided*se_p\n",
    "print(\"(1-{})% conf. interval ({:.4f},+inf)\".format(a, interval_L))"
   ]
  },
  {
   "cell_type": "code",
   "execution_count": null,
   "metadata": {},
   "outputs": [],
   "source": []
  }
 ],
 "metadata": {
  "kernelspec": {
   "display_name": "Python 3",
   "language": "python",
   "name": "python3"
  },
  "language_info": {
   "codemirror_mode": {
    "name": "ipython",
    "version": 3
   },
   "file_extension": ".py",
   "mimetype": "text/x-python",
   "name": "python",
   "nbconvert_exporter": "python",
   "pygments_lexer": "ipython3",
   "version": "3.7.3"
  }
 },
 "nbformat": 4,
 "nbformat_minor": 4
}
